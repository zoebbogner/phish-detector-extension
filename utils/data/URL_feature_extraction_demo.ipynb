{
 "cells": [
  {
   "cell_type": "markdown",
   "id": "6f23b1dc",
   "metadata": {},
   "source": [
    "# Phishing Feature Extraction Demo\n",
    "\n",
    "This notebook demonstrates extraction of URL features using URLFeatureExtractor and visualizes feature distributions."
   ]
  },
  {
   "cell_type": "code",
<<<<<<< HEAD
   "execution_count": 13,
=======
   "execution_count": 1,
>>>>>>> 18b28a670c3407fdc429fa17901bd32f511f8bea
   "id": "910eea35",
   "metadata": {},
   "outputs": [],
   "source": [
    "import sys\n",
    "sys.path.append('/mnt/data')\n",
    "from URL_feature_extractor import URLFeatureExtractor\n",
    "import pandas as pd"
   ]
  },
  {
   "cell_type": "code",
<<<<<<< HEAD
   "execution_count": 14,
=======
   "execution_count": 6,
>>>>>>> 18b28a670c3407fdc429fa17901bd32f511f8bea
   "id": "c8632971",
   "metadata": {},
   "outputs": [
    {
     "name": "stdout",
     "output_type": "stream",
     "text": [
<<<<<<< HEAD
      "Loaded 12 URLs from CSV file\n",
      "First 5 URLs: ['https://sandiafcuarea.weebly.com/', 'https://relais-mondial-relay.info/', 'https://att-106384-100733.weeblysite.com/', 'https://redigbosthknk.web.app', 'https://flowcv.me/jhshshhgs']\n"
=======
      "Loaded 1001 URLs from CSV file\n",
      "First 5 URLs: ['https://auth-m-start-ledgerre.webflow.io/,1,PhishTank,2025-05-10T12:28:07.544276+00:00', 'https://bit.ly/3XVDSvj,1,PhishTank,2025-05-10T12:28:07.544276+00:00', 'https://setuplbpro75002.firebaseapp.com/,1,PhishTank,2025-05-10T12:28:07.544276+00:00', 'https://l.ead.me/bfI7Co,1,PhishTank,2025-05-10T12:28:07.544276+00:00', 'https://bit.ly/1Q6rz,1,PhishTank,2025-05-10T12:28:07.544276+00:00']\n"
>>>>>>> 18b28a670c3407fdc429fa17901bd32f511f8bea
     ]
    }
   ],
   "source": [
    "# Load URLs from a CSV file (first column contains URLs)\n",
    "url_data = pd.read_csv('../../raw/raw/combined_dataset.csv')  # Replace 'urls.csv' with your file path\n",
    "urls = url_data.iloc[:, 0].tolist()  # Extract first column as list\n",
    "\n",
    "# Show how many URLs were loaded\n",
    "print(f\"Loaded {len(urls)} URLs from CSV file\")\n",
    "print(f\"First 5 URLs: {urls[:5]}\")"
   ]
  },
  {
   "cell_type": "code",
<<<<<<< HEAD
   "execution_count": 15,
=======
   "execution_count": 7,
>>>>>>> 18b28a670c3407fdc429fa17901bd32f511f8bea
   "id": "9b162ac5",
   "metadata": {},
   "outputs": [
    {
     "data": {
      "text/html": [
       "<div>\n",
       "<style scoped>\n",
       "    .dataframe tbody tr th:only-of-type {\n",
       "        vertical-align: middle;\n",
       "    }\n",
       "\n",
       "    .dataframe tbody tr th {\n",
       "        vertical-align: top;\n",
       "    }\n",
       "\n",
       "    .dataframe thead th {\n",
       "        text-align: right;\n",
       "    }\n",
       "</style>\n",
       "<table border=\"1\" class=\"dataframe\">\n",
       "  <thead>\n",
       "    <tr style=\"text-align: right;\">\n",
       "      <th></th>\n",
       "      <th>url_length</th>\n",
       "      <th>path_depth</th>\n",
       "      <th>domain_length</th>\n",
       "      <th>num_subdomains</th>\n",
       "      <th>num_special_chars</th>\n",
       "      <th>num_digits</th>\n",
       "      <th>num_hyphens</th>\n",
       "      <th>num_underscores</th>\n",
       "      <th>has_at_symbol</th>\n",
       "      <th>query_length</th>\n",
       "      <th>num_query_params</th>\n",
       "      <th>contains_ip</th>\n",
       "      <th>digit_ratio</th>\n",
       "      <th>url_entropy</th>\n",
       "      <th>suspicious_word_count</th>\n",
       "    </tr>\n",
       "  </thead>\n",
       "  <tbody>\n",
       "    <tr>\n",
       "      <th>0</th>\n",
<<<<<<< HEAD
       "      <td>33.0</td>\n",
       "      <td>0.0</td>\n",
       "      <td>24.0</td>\n",
       "      <td>0.0</td>\n",
       "      <td>6.0</td>\n",
=======
       "      <td>86.0</td>\n",
       "      <td>1.0</td>\n",
       "      <td>32.0</td>\n",
       "      <td>0.0</td>\n",
       "      <td>19.0</td>\n",
       "      <td>25.0</td>\n",
       "      <td>5.0</td>\n",
>>>>>>> 18b28a670c3407fdc429fa17901bd32f511f8bea
       "      <td>0.0</td>\n",
       "      <td>0.0</td>\n",
       "      <td>0.0</td>\n",
       "      <td>0.0</td>\n",
       "      <td>0.0</td>\n",
<<<<<<< HEAD
       "      <td>0.0</td>\n",
       "      <td>0.0</td>\n",
       "      <td>0.000000</td>\n",
       "      <td>4.271371</td>\n",
=======
       "      <td>0.290698</td>\n",
       "      <td>4.858032</td>\n",
>>>>>>> 18b28a670c3407fdc429fa17901bd32f511f8bea
       "      <td>0.0</td>\n",
       "    </tr>\n",
       "    <tr>\n",
       "      <th>1</th>\n",
<<<<<<< HEAD
       "      <td>34.0</td>\n",
       "      <td>0.0</td>\n",
       "      <td>25.0</td>\n",
       "      <td>0.0</td>\n",
       "      <td>7.0</td>\n",
       "      <td>0.0</td>\n",
=======
       "      <td>67.0</td>\n",
       "      <td>1.0</td>\n",
       "      <td>6.0</td>\n",
       "      <td>0.0</td>\n",
       "      <td>15.0</td>\n",
       "      <td>26.0</td>\n",
>>>>>>> 18b28a670c3407fdc429fa17901bd32f511f8bea
       "      <td>2.0</td>\n",
       "      <td>0.0</td>\n",
       "      <td>0.0</td>\n",
       "      <td>0.0</td>\n",
       "      <td>0.0</td>\n",
       "      <td>0.0</td>\n",
<<<<<<< HEAD
       "      <td>0.000000</td>\n",
       "      <td>4.116300</td>\n",
=======
       "      <td>0.388060</td>\n",
       "      <td>4.780433</td>\n",
>>>>>>> 18b28a670c3407fdc429fa17901bd32f511f8bea
       "      <td>0.0</td>\n",
       "    </tr>\n",
       "    <tr>\n",
       "      <th>2</th>\n",
<<<<<<< HEAD
       "      <td>41.0</td>\n",
       "      <td>0.0</td>\n",
       "      <td>32.0</td>\n",
       "      <td>0.0</td>\n",
       "      <td>8.0</td>\n",
       "      <td>12.0</td>\n",
=======
       "      <td>85.0</td>\n",
       "      <td>1.0</td>\n",
       "      <td>31.0</td>\n",
       "      <td>0.0</td>\n",
       "      <td>16.0</td>\n",
       "      <td>30.0</td>\n",
>>>>>>> 18b28a670c3407fdc429fa17901bd32f511f8bea
       "      <td>2.0</td>\n",
       "      <td>0.0</td>\n",
       "      <td>0.0</td>\n",
       "      <td>0.0</td>\n",
       "      <td>0.0</td>\n",
       "      <td>0.0</td>\n",
<<<<<<< HEAD
       "      <td>0.292683</td>\n",
       "      <td>4.415377</td>\n",
=======
       "      <td>0.352941</td>\n",
       "      <td>4.749006</td>\n",
>>>>>>> 18b28a670c3407fdc429fa17901bd32f511f8bea
       "      <td>0.0</td>\n",
       "    </tr>\n",
       "    <tr>\n",
       "      <th>3</th>\n",
<<<<<<< HEAD
       "      <td>29.0</td>\n",
       "      <td>0.0</td>\n",
       "      <td>21.0</td>\n",
       "      <td>0.0</td>\n",
       "      <td>5.0</td>\n",
=======
       "      <td>68.0</td>\n",
       "      <td>1.0</td>\n",
       "      <td>8.0</td>\n",
       "      <td>0.0</td>\n",
       "      <td>16.0</td>\n",
       "      <td>26.0</td>\n",
       "      <td>2.0</td>\n",
>>>>>>> 18b28a670c3407fdc429fa17901bd32f511f8bea
       "      <td>0.0</td>\n",
       "      <td>0.0</td>\n",
       "      <td>0.0</td>\n",
       "      <td>0.0</td>\n",
       "      <td>0.0</td>\n",
<<<<<<< HEAD
       "      <td>0.0</td>\n",
       "      <td>0.0</td>\n",
       "      <td>0.000000</td>\n",
       "      <td>4.047299</td>\n",
=======
       "      <td>0.382353</td>\n",
       "      <td>4.750789</td>\n",
>>>>>>> 18b28a670c3407fdc429fa17901bd32f511f8bea
       "      <td>0.0</td>\n",
       "    </tr>\n",
       "    <tr>\n",
       "      <th>4</th>\n",
<<<<<<< HEAD
       "      <td>27.0</td>\n",
       "      <td>1.0</td>\n",
       "      <td>9.0</td>\n",
       "      <td>0.0</td>\n",
       "      <td>5.0</td>\n",
       "      <td>0.0</td>\n",
       "      <td>0.0</td>\n",
       "      <td>0.0</td>\n",
       "      <td>0.0</td>\n",
       "      <td>0.0</td>\n",
       "      <td>0.0</td>\n",
       "      <td>0.0</td>\n",
       "      <td>0.000000</td>\n",
       "      <td>3.778424</td>\n",
       "      <td>0.0</td>\n",
       "    </tr>\n",
       "    <tr>\n",
       "      <th>5</th>\n",
       "      <td>44.0</td>\n",
       "      <td>1.0</td>\n",
       "      <td>24.0</td>\n",
       "      <td>0.0</td>\n",
       "      <td>10.0</td>\n",
       "      <td>11.0</td>\n",
       "      <td>1.0</td>\n",
       "      <td>0.0</td>\n",
       "      <td>0.0</td>\n",
       "      <td>0.0</td>\n",
       "      <td>0.0</td>\n",
       "      <td>0.0</td>\n",
       "      <td>0.250000</td>\n",
       "      <td>4.436260</td>\n",
       "      <td>0.0</td>\n",
       "    </tr>\n",
       "    <tr>\n",
       "      <th>6</th>\n",
       "      <td>60.0</td>\n",
       "      <td>1.0</td>\n",
       "      <td>34.0</td>\n",
       "      <td>0.0</td>\n",
       "      <td>10.0</td>\n",
       "      <td>2.0</td>\n",
=======
       "      <td>65.0</td>\n",
       "      <td>1.0</td>\n",
       "      <td>6.0</td>\n",
       "      <td>0.0</td>\n",
       "      <td>15.0</td>\n",
       "      <td>27.0</td>\n",
       "      <td>2.0</td>\n",
       "      <td>0.0</td>\n",
       "      <td>0.0</td>\n",
       "      <td>0.0</td>\n",
       "      <td>0.0</td>\n",
       "      <td>0.0</td>\n",
       "      <td>0.415385</td>\n",
       "      <td>4.616459</td>\n",
       "      <td>0.0</td>\n",
       "    </tr>\n",
       "    <tr>\n",
       "      <th>...</th>\n",
       "      <td>...</td>\n",
       "      <td>...</td>\n",
       "      <td>...</td>\n",
       "      <td>...</td>\n",
       "      <td>...</td>\n",
       "      <td>...</td>\n",
       "      <td>...</td>\n",
       "      <td>...</td>\n",
       "      <td>...</td>\n",
       "      <td>...</td>\n",
       "      <td>...</td>\n",
       "      <td>...</td>\n",
       "      <td>...</td>\n",
       "      <td>...</td>\n",
       "      <td>...</td>\n",
       "    </tr>\n",
       "    <tr>\n",
       "      <th>996</th>\n",
       "      <td>71.0</td>\n",
       "      <td>0.0</td>\n",
       "      <td>63.0</td>\n",
       "      <td>0.0</td>\n",
       "      <td>14.0</td>\n",
       "      <td>25.0</td>\n",
       "      <td>2.0</td>\n",
       "      <td>0.0</td>\n",
       "      <td>0.0</td>\n",
       "      <td>0.0</td>\n",
       "      <td>0.0</td>\n",
       "      <td>0.0</td>\n",
       "      <td>0.352113</td>\n",
       "      <td>4.562014</td>\n",
       "      <td>0.0</td>\n",
       "    </tr>\n",
       "    <tr>\n",
       "      <th>997</th>\n",
       "      <td>60.0</td>\n",
       "      <td>0.0</td>\n",
       "      <td>52.0</td>\n",
       "      <td>0.0</td>\n",
       "      <td>14.0</td>\n",
       "      <td>25.0</td>\n",
       "      <td>2.0</td>\n",
       "      <td>0.0</td>\n",
       "      <td>0.0</td>\n",
       "      <td>0.0</td>\n",
       "      <td>0.0</td>\n",
       "      <td>0.0</td>\n",
       "      <td>0.416667</td>\n",
       "      <td>4.502910</td>\n",
       "      <td>0.0</td>\n",
       "    </tr>\n",
       "    <tr>\n",
       "      <th>998</th>\n",
       "      <td>74.0</td>\n",
       "      <td>0.0</td>\n",
       "      <td>66.0</td>\n",
       "      <td>0.0</td>\n",
       "      <td>15.0</td>\n",
       "      <td>25.0</td>\n",
>>>>>>> 18b28a670c3407fdc429fa17901bd32f511f8bea
       "      <td>3.0</td>\n",
       "      <td>0.0</td>\n",
       "      <td>0.0</td>\n",
       "      <td>0.0</td>\n",
       "      <td>0.0</td>\n",
       "      <td>0.0</td>\n",
<<<<<<< HEAD
       "      <td>0.033333</td>\n",
       "      <td>4.402910</td>\n",
       "      <td>0.0</td>\n",
       "    </tr>\n",
       "    <tr>\n",
       "      <th>7</th>\n",
       "      <td>43.0</td>\n",
       "      <td>1.0</td>\n",
       "      <td>14.0</td>\n",
       "      <td>0.0</td>\n",
       "      <td>8.0</td>\n",
       "      <td>1.0</td>\n",
       "      <td>0.0</td>\n",
       "      <td>0.0</td>\n",
       "      <td>0.0</td>\n",
       "      <td>12.0</td>\n",
       "      <td>1.0</td>\n",
       "      <td>0.0</td>\n",
       "      <td>0.023256</td>\n",
       "      <td>4.414410</td>\n",
       "      <td>0.0</td>\n",
       "    </tr>\n",
       "    <tr>\n",
       "      <th>8</th>\n",
       "      <td>43.0</td>\n",
       "      <td>0.0</td>\n",
       "      <td>34.0</td>\n",
       "      <td>0.0</td>\n",
       "      <td>11.0</td>\n",
       "      <td>0.0</td>\n",
       "      <td>5.0</td>\n",
       "      <td>0.0</td>\n",
       "      <td>0.0</td>\n",
       "      <td>0.0</td>\n",
       "      <td>0.0</td>\n",
       "      <td>0.0</td>\n",
       "      <td>0.000000</td>\n",
       "      <td>4.283953</td>\n",
       "      <td>0.0</td>\n",
       "    </tr>\n",
       "    <tr>\n",
       "      <th>9</th>\n",
       "      <td>63.0</td>\n",
       "      <td>1.0</td>\n",
       "      <td>43.0</td>\n",
       "      <td>0.0</td>\n",
       "      <td>8.0</td>\n",
       "      <td>24.0</td>\n",
       "      <td>1.0</td>\n",
       "      <td>0.0</td>\n",
       "      <td>0.0</td>\n",
       "      <td>0.0</td>\n",
       "      <td>0.0</td>\n",
       "      <td>0.0</td>\n",
       "      <td>0.380952</td>\n",
       "      <td>4.687464</td>\n",
       "      <td>0.0</td>\n",
       "    </tr>\n",
       "    <tr>\n",
       "      <th>10</th>\n",
       "      <td>31.0</td>\n",
       "      <td>0.0</td>\n",
       "      <td>23.0</td>\n",
       "      <td>0.0</td>\n",
       "      <td>4.0</td>\n",
       "      <td>0.0</td>\n",
       "      <td>0.0</td>\n",
       "      <td>0.0</td>\n",
       "      <td>0.0</td>\n",
       "      <td>0.0</td>\n",
       "      <td>0.0</td>\n",
       "      <td>0.0</td>\n",
       "      <td>0.000000</td>\n",
       "      <td>4.018082</td>\n",
       "      <td>0.0</td>\n",
       "    </tr>\n",
       "    <tr>\n",
       "      <th>11</th>\n",
       "      <td>22.0</td>\n",
       "      <td>0.0</td>\n",
       "      <td>14.0</td>\n",
       "      <td>0.0</td>\n",
       "      <td>5.0</td>\n",
       "      <td>0.0</td>\n",
       "      <td>1.0</td>\n",
=======
       "      <td>0.337838</td>\n",
       "      <td>4.552651</td>\n",
       "      <td>0.0</td>\n",
       "    </tr>\n",
       "    <tr>\n",
       "      <th>999</th>\n",
       "      <td>65.0</td>\n",
       "      <td>0.0</td>\n",
       "      <td>57.0</td>\n",
       "      <td>0.0</td>\n",
       "      <td>16.0</td>\n",
       "      <td>25.0</td>\n",
       "      <td>2.0</td>\n",
       "      <td>0.0</td>\n",
       "      <td>0.0</td>\n",
       "      <td>0.0</td>\n",
       "      <td>0.0</td>\n",
       "      <td>0.0</td>\n",
       "      <td>0.384615</td>\n",
       "      <td>4.584153</td>\n",
       "      <td>0.0</td>\n",
       "    </tr>\n",
       "    <tr>\n",
       "      <th>1000</th>\n",
       "      <td>70.0</td>\n",
       "      <td>0.0</td>\n",
       "      <td>62.0</td>\n",
       "      <td>0.0</td>\n",
       "      <td>14.0</td>\n",
       "      <td>25.0</td>\n",
       "      <td>2.0</td>\n",
>>>>>>> 18b28a670c3407fdc429fa17901bd32f511f8bea
       "      <td>0.0</td>\n",
       "      <td>0.0</td>\n",
       "      <td>0.0</td>\n",
       "      <td>0.0</td>\n",
       "      <td>0.0</td>\n",
<<<<<<< HEAD
       "      <td>0.000000</td>\n",
       "      <td>4.095795</td>\n",
=======
       "      <td>0.357143</td>\n",
       "      <td>4.704303</td>\n",
>>>>>>> 18b28a670c3407fdc429fa17901bd32f511f8bea
       "      <td>0.0</td>\n",
       "    </tr>\n",
       "  </tbody>\n",
       "</table>\n",
<<<<<<< HEAD
       "</div>"
      ],
      "text/plain": [
       "    url_length  path_depth  domain_length  num_subdomains  num_special_chars  \\\n",
       "0         33.0         0.0           24.0             0.0                6.0   \n",
       "1         34.0         0.0           25.0             0.0                7.0   \n",
       "2         41.0         0.0           32.0             0.0                8.0   \n",
       "3         29.0         0.0           21.0             0.0                5.0   \n",
       "4         27.0         1.0            9.0             0.0                5.0   \n",
       "5         44.0         1.0           24.0             0.0               10.0   \n",
       "6         60.0         1.0           34.0             0.0               10.0   \n",
       "7         43.0         1.0           14.0             0.0                8.0   \n",
       "8         43.0         0.0           34.0             0.0               11.0   \n",
       "9         63.0         1.0           43.0             0.0                8.0   \n",
       "10        31.0         0.0           23.0             0.0                4.0   \n",
       "11        22.0         0.0           14.0             0.0                5.0   \n",
       "\n",
       "    num_digits  num_hyphens  num_underscores  has_at_symbol  query_length  \\\n",
       "0          0.0          0.0              0.0            0.0           0.0   \n",
       "1          0.0          2.0              0.0            0.0           0.0   \n",
       "2         12.0          2.0              0.0            0.0           0.0   \n",
       "3          0.0          0.0              0.0            0.0           0.0   \n",
       "4          0.0          0.0              0.0            0.0           0.0   \n",
       "5         11.0          1.0              0.0            0.0           0.0   \n",
       "6          2.0          3.0              0.0            0.0           0.0   \n",
       "7          1.0          0.0              0.0            0.0          12.0   \n",
       "8          0.0          5.0              0.0            0.0           0.0   \n",
       "9         24.0          1.0              0.0            0.0           0.0   \n",
       "10         0.0          0.0              0.0            0.0           0.0   \n",
       "11         0.0          1.0              0.0            0.0           0.0   \n",
       "\n",
       "    num_query_params  contains_ip  digit_ratio  url_entropy  \\\n",
       "0                0.0          0.0     0.000000     4.271371   \n",
       "1                0.0          0.0     0.000000     4.116300   \n",
       "2                0.0          0.0     0.292683     4.415377   \n",
       "3                0.0          0.0     0.000000     4.047299   \n",
       "4                0.0          0.0     0.000000     3.778424   \n",
       "5                0.0          0.0     0.250000     4.436260   \n",
       "6                0.0          0.0     0.033333     4.402910   \n",
       "7                1.0          0.0     0.023256     4.414410   \n",
       "8                0.0          0.0     0.000000     4.283953   \n",
       "9                0.0          0.0     0.380952     4.687464   \n",
       "10               0.0          0.0     0.000000     4.018082   \n",
       "11               0.0          0.0     0.000000     4.095795   \n",
       "\n",
       "    suspicious_word_count  \n",
       "0                     0.0  \n",
       "1                     0.0  \n",
       "2                     0.0  \n",
       "3                     0.0  \n",
       "4                     0.0  \n",
       "5                     0.0  \n",
       "6                     0.0  \n",
       "7                     0.0  \n",
       "8                     0.0  \n",
       "9                     0.0  \n",
       "10                    0.0  \n",
       "11                    0.0  "
      ]
     },
     "execution_count": 15,
=======
       "<p>1001 rows × 15 columns</p>\n",
       "</div>"
      ],
      "text/plain": [
       "      url_length  path_depth  domain_length  num_subdomains  \\\n",
       "0           86.0         1.0           32.0             0.0   \n",
       "1           67.0         1.0            6.0             0.0   \n",
       "2           85.0         1.0           31.0             0.0   \n",
       "3           68.0         1.0            8.0             0.0   \n",
       "4           65.0         1.0            6.0             0.0   \n",
       "...          ...         ...            ...             ...   \n",
       "996         71.0         0.0           63.0             0.0   \n",
       "997         60.0         0.0           52.0             0.0   \n",
       "998         74.0         0.0           66.0             0.0   \n",
       "999         65.0         0.0           57.0             0.0   \n",
       "1000        70.0         0.0           62.0             0.0   \n",
       "\n",
       "      num_special_chars  num_digits  num_hyphens  num_underscores  \\\n",
       "0                  19.0        25.0          5.0              0.0   \n",
       "1                  15.0        26.0          2.0              0.0   \n",
       "2                  16.0        30.0          2.0              0.0   \n",
       "3                  16.0        26.0          2.0              0.0   \n",
       "4                  15.0        27.0          2.0              0.0   \n",
       "...                 ...         ...          ...              ...   \n",
       "996                14.0        25.0          2.0              0.0   \n",
       "997                14.0        25.0          2.0              0.0   \n",
       "998                15.0        25.0          3.0              0.0   \n",
       "999                16.0        25.0          2.0              0.0   \n",
       "1000               14.0        25.0          2.0              0.0   \n",
       "\n",
       "      has_at_symbol  query_length  num_query_params  contains_ip  digit_ratio  \\\n",
       "0               0.0           0.0               0.0          0.0     0.290698   \n",
       "1               0.0           0.0               0.0          0.0     0.388060   \n",
       "2               0.0           0.0               0.0          0.0     0.352941   \n",
       "3               0.0           0.0               0.0          0.0     0.382353   \n",
       "4               0.0           0.0               0.0          0.0     0.415385   \n",
       "...             ...           ...               ...          ...          ...   \n",
       "996             0.0           0.0               0.0          0.0     0.352113   \n",
       "997             0.0           0.0               0.0          0.0     0.416667   \n",
       "998             0.0           0.0               0.0          0.0     0.337838   \n",
       "999             0.0           0.0               0.0          0.0     0.384615   \n",
       "1000            0.0           0.0               0.0          0.0     0.357143   \n",
       "\n",
       "      url_entropy  suspicious_word_count  \n",
       "0        4.858032                    0.0  \n",
       "1        4.780433                    0.0  \n",
       "2        4.749006                    0.0  \n",
       "3        4.750789                    0.0  \n",
       "4        4.616459                    0.0  \n",
       "...           ...                    ...  \n",
       "996      4.562014                    0.0  \n",
       "997      4.502910                    0.0  \n",
       "998      4.552651                    0.0  \n",
       "999      4.584153                    0.0  \n",
       "1000     4.704303                    0.0  \n",
       "\n",
       "[1001 rows x 15 columns]"
      ]
     },
     "execution_count": 7,
>>>>>>> 18b28a670c3407fdc429fa17901bd32f511f8bea
     "metadata": {},
     "output_type": "execute_result"
    }
   ],
   "source": [
    "extractor = URLFeatureExtractor()\n",
    "col_names = ['url_length', 'path_depth', 'domain_length', 'num_subdomains', 'num_special_chars', 'num_digits', 'num_hyphens', 'num_underscores', 'has_at_symbol', 'query_length', 'num_query_params', 'contains_ip', 'digit_ratio', 'url_entropy', 'suspicious_word_count']\n",
    "features = extractor.transform(urls)\n",
    "df = pd.DataFrame(features, columns=col_names)\n",
    "df"
   ]
  },
  {
   "cell_type": "code",
<<<<<<< HEAD
   "execution_count": 16,
=======
   "execution_count": 8,
>>>>>>> 18b28a670c3407fdc429fa17901bd32f511f8bea
   "id": "de447508",
   "metadata": {},
   "outputs": [
    {
     "data": {
<<<<<<< HEAD
      "image/png": "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",
=======
      "image/png": "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",
>>>>>>> 18b28a670c3407fdc429fa17901bd32f511f8bea
      "text/plain": [
       "<Figure size 640x480 with 1 Axes>"
      ]
     },
     "metadata": {},
     "output_type": "display_data"
    }
   ],
   "source": [
    "import matplotlib.pyplot as plt\n",
    "plt.figure()\n",
    "plt.hist(df['url_length'])\n",
    "plt.title('URL Length Distribution')\n",
    "plt.xlabel('Length')\n",
    "plt.ylabel('Frequency')\n",
    "plt.show()"
   ]
  },
  {
   "cell_type": "code",
<<<<<<< HEAD
   "execution_count": 17,
=======
   "execution_count": 9,
>>>>>>> 18b28a670c3407fdc429fa17901bd32f511f8bea
   "id": "42b58686",
   "metadata": {},
   "outputs": [
    {
     "data": {
<<<<<<< HEAD
      "image/png": "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",
=======
      "image/png": "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",
>>>>>>> 18b28a670c3407fdc429fa17901bd32f511f8bea
      "text/plain": [
       "<Figure size 640x480 with 1 Axes>"
      ]
     },
     "metadata": {},
     "output_type": "display_data"
    }
   ],
   "source": [
    "plt.figure()\n",
    "plt.hist(df['url_entropy'])\n",
    "plt.title('URL Entropy Distribution')\n",
    "plt.xlabel('Entropy')\n",
    "plt.ylabel('Frequency')\n",
    "plt.show()"
   ]
  },
  {
   "cell_type": "code",
<<<<<<< HEAD
   "execution_count": 18,
=======
   "execution_count": 10,
>>>>>>> 18b28a670c3407fdc429fa17901bd32f511f8bea
   "id": "25fe72b0",
   "metadata": {},
   "outputs": [
    {
     "data": {
<<<<<<< HEAD
      "image/png": "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",
=======
      "image/png": "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",
>>>>>>> 18b28a670c3407fdc429fa17901bd32f511f8bea
      "text/plain": [
       "<Figure size 640x480 with 1 Axes>"
      ]
     },
     "metadata": {},
     "output_type": "display_data"
    }
   ],
   "source": [
    "plt.figure()\n",
    "plt.scatter(df['url_entropy'], df['suspicious_word_count'])\n",
    "plt.title('Entropy vs Suspicious Word Count')\n",
    "plt.xlabel('Entropy')\n",
    "plt.ylabel('Suspicious Word Count')\n",
    "plt.show()"
   ]
  }
 ],
 "metadata": {
  "kernelspec": {
<<<<<<< HEAD
   "display_name": ".venv",
=======
   "display_name": "venv",
>>>>>>> 18b28a670c3407fdc429fa17901bd32f511f8bea
   "language": "python",
   "name": "python3"
  },
  "language_info": {
   "codemirror_mode": {
    "name": "ipython",
    "version": 3
   },
   "file_extension": ".py",
   "mimetype": "text/x-python",
   "name": "python",
   "nbconvert_exporter": "python",
   "pygments_lexer": "ipython3",
   "version": "3.13.3"
  }
 },
 "nbformat": 4,
 "nbformat_minor": 5
}
